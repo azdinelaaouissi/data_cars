{
  "nbformat": 4,
  "nbformat_minor": 0,
  "metadata": {
    "colab": {
      "provenance": [],
      "authorship_tag": "ABX9TyMT/0qjOR/Oq0nLdmPP3iR0",
      "include_colab_link": true
    },
    "kernelspec": {
      "name": "python3",
      "display_name": "Python 3"
    },
    "language_info": {
      "name": "python"
    }
  },
  "cells": [
    {
      "cell_type": "markdown",
      "metadata": {
        "id": "view-in-github",
        "colab_type": "text"
      },
      "source": [
        "<a href=\"https://colab.research.google.com/github/azdinelaaouissi/data_cars/blob/main/web_scraping.ipynb\" target=\"_parent\"><img src=\"https://colab.research.google.com/assets/colab-badge.svg\" alt=\"Open In Colab\"/></a>"
      ]
    },
    {
      "cell_type": "code",
      "source": [
        "import requests\n",
        "from bs4 import BeautifulSoup\n",
        "import csv\n",
        "import  pandas  as  pd"
      ],
      "metadata": {
        "id": "0-7BjDFT8BKV"
      },
      "execution_count": 1,
      "outputs": []
    },
    {
      "cell_type": "markdown",
      "source": [
        "# data  for  https://www.moteur.ma/fr/voiture/"
      ],
      "metadata": {
        "id": "cEeYXAGnyzq7"
      }
    },
    {
      "cell_type": "code",
      "source": [
        "data=[]\n",
        "for  i in  range(0,10):\n",
        "\n",
        "  url=\"https://www.moteur.ma/fr/voiture/achat-voiture-occasion/\"+str(i*30)\n",
        "  response=requests.get(url)\n",
        "  response.encoding=\"utf-8\"\n",
        "  if response.status_code==200:\n",
        "    html=response.text\n",
        "    soup=BeautifulSoup(html,\"html.parser\")\n",
        "    annonces=soup.findAll(\"div\",class_=\"content-inner\")\n",
        "\n",
        "\n",
        "    for  annonce in  annonces:\n",
        "        marque=annonce.find(\"a\",class_=\"slide\").text.strip()\n",
        "        prix=annonce.find(\"div\",class_=\"PriceListing\").text.strip()\n",
        "        other=annonce.find(\"div\", class_=\"meta\").find(\"ul\").findAll(\"li\")\n",
        "        if  prix==\"Appeler pour le prix\" or other[0].text.strip()==\"Se faire rappeler\":\n",
        "          prix=None\n",
        "          other=annonce.findAll(\"div\", class_=\"meta\")[1].find(\"ul\").findAll(\"li\")\n",
        "        if len(other) ==5:\n",
        "          other.pop(0)\n",
        "        modele=other[0].text.strip()\n",
        "        ville=other[1].text.strip()\n",
        "        carburant=other[2].text.strip()\n",
        "        lien=other[3].find(\"a\").get('href')\n",
        "        data.append({\"lien\":lien,\"marque\":marque,\"modele\":modele,\"ville\":ville,\"carburant\":carburant,\"prix\":prix})\n",
        "        #print(f\"======{marque}=======\")\n",
        "    #print(data[0][\"marque\"])\n",
        "\n",
        "  else:\n",
        "    print(f\"error:{response.status_code}\")\n",
        "df=pd.DataFrame(data)\n",
        "print(df)\n",
        "df.to_csv('annonces.csv', index=False)"
      ],
      "metadata": {
        "colab": {
          "base_uri": "https://localhost:8080/"
        },
        "id": "vglgnpg7ATGI",
        "outputId": "fdeba55d-bc21-4504-9f85-671125bc29e1"
      },
      "execution_count": 2,
      "outputs": [
        {
          "output_type": "stream",
          "name": "stdout",
          "text": [
            "                                                  lien  \\\n",
            "0    https://www.moteur.ma/fr/voiture/achat-voiture...   \n",
            "1    https://www.moteur.ma/fr/voiture/achat-voiture...   \n",
            "2    https://www.moteur.ma/fr/voiture/achat-voiture...   \n",
            "3    https://www.moteur.ma/fr/voiture/achat-voiture...   \n",
            "4    https://www.moteur.ma/fr/voiture/achat-voiture...   \n",
            "..                                                 ...   \n",
            "295  https://www.moteur.ma/fr/voiture/achat-voiture...   \n",
            "296  https://www.moteur.ma/fr/voiture/achat-voiture...   \n",
            "297  https://www.moteur.ma/fr/voiture/achat-voiture...   \n",
            "298  https://www.moteur.ma/fr/voiture/achat-voiture...   \n",
            "299  https://www.moteur.ma/fr/voiture/achat-voiture...   \n",
            "\n",
            "                                                marque modele       ville  \\\n",
            "0                                        SKODA  Superb   2019  Casablanca   \n",
            "1    MERCEDES  Classe c\\t\\t\\t\\t\\t\\t\\t\\r\\n\\t\\t\\t\\t\\t...   2008       Nador   \n",
            "2                                   MERCEDES  Classe e   1994       Nador   \n",
            "3                                        MERCEDES  250   1995       Nador   \n",
            "4                                  MERCEDES  Classe ml   2006       Nador   \n",
            "..                                                 ...    ...         ...   \n",
            "295                                      MERCEDES  Glc   2024      Tanger   \n",
            "296                                 LAMBORGHINI  Autre   2024      Tanger   \n",
            "297                                          AUDI  Rs3   2023      Tanger   \n",
            "298                     LAND-ROVER  Range rover evoque   2016       Nador   \n",
            "299                                  CITROEN  Berlingo   2021       Nador   \n",
            "\n",
            "    carburant         prix  \n",
            "0      Diesel         None  \n",
            "1      Diesel  137 000 Dhs  \n",
            "2      Diesel   78 000 Dhs  \n",
            "3      Diesel   70 000 Dhs  \n",
            "4      Diesel  105 000 Dhs  \n",
            "..        ...          ...  \n",
            "295    Diesel         None  \n",
            "296   Essence         None  \n",
            "297   Essence         None  \n",
            "298    Diesel  320 000 Dhs  \n",
            "299    Diesel  177 000 Dhs  \n",
            "\n",
            "[300 rows x 6 columns]\n"
          ]
        }
      ]
    },
    {
      "cell_type": "code",
      "source": [
        "df.shape"
      ],
      "metadata": {
        "colab": {
          "base_uri": "https://localhost:8080/"
        },
        "id": "2A8CNF4jxMrU",
        "outputId": "cfa5f5ec-9cc3-46b7-b8cd-82d994bded61"
      },
      "execution_count": 82,
      "outputs": [
        {
          "output_type": "execute_result",
          "data": {
            "text/plain": [
              "(60, 6)"
            ]
          },
          "metadata": {},
          "execution_count": 82
        }
      ]
    },
    {
      "cell_type": "code",
      "source": [
        "df[\"lien\"]"
      ],
      "metadata": {
        "colab": {
          "base_uri": "https://localhost:8080/"
        },
        "id": "9AC1LQ6hV5D8",
        "outputId": "eb8693b5-0bb3-4aec-b162-d701761083b1"
      },
      "execution_count": 83,
      "outputs": [
        {
          "output_type": "execute_result",
          "data": {
            "text/plain": [
              "0     https://www.moteur.ma/fr/voiture/achat-voiture...\n",
              "1     https://www.moteur.ma/fr/voiture/achat-voiture...\n",
              "2     https://www.moteur.ma/fr/voiture/achat-voiture...\n",
              "3     https://www.moteur.ma/fr/voiture/achat-voiture...\n",
              "4     https://www.moteur.ma/fr/voiture/achat-voiture...\n",
              "5     https://www.moteur.ma/fr/voiture/achat-voiture...\n",
              "6     https://www.moteur.ma/fr/voiture/achat-voiture...\n",
              "7     https://www.moteur.ma/fr/voiture/achat-voiture...\n",
              "8     https://www.moteur.ma/fr/voiture/achat-voiture...\n",
              "9     https://www.moteur.ma/fr/voiture/achat-voiture...\n",
              "10    https://www.moteur.ma/fr/voiture/achat-voiture...\n",
              "11    https://www.moteur.ma/fr/voiture/achat-voiture...\n",
              "12    https://www.moteur.ma/fr/voiture/achat-voiture...\n",
              "13    https://www.moteur.ma/fr/voiture/achat-voiture...\n",
              "14    https://www.moteur.ma/fr/voiture/achat-voiture...\n",
              "15    https://www.moteur.ma/fr/voiture/achat-voiture...\n",
              "16    https://www.moteur.ma/fr/voiture/achat-voiture...\n",
              "17    https://www.moteur.ma/fr/voiture/achat-voiture...\n",
              "18    https://www.moteur.ma/fr/voiture/achat-voiture...\n",
              "19    https://www.moteur.ma/fr/voiture/achat-voiture...\n",
              "20    https://www.moteur.ma/fr/voiture/achat-voiture...\n",
              "21    https://www.moteur.ma/fr/voiture/achat-voiture...\n",
              "22    https://www.moteur.ma/fr/voiture/achat-voiture...\n",
              "23    https://www.moteur.ma/fr/voiture/achat-voiture...\n",
              "24    https://www.moteur.ma/fr/voiture/achat-voiture...\n",
              "25    https://www.moteur.ma/fr/voiture/achat-voiture...\n",
              "26    https://www.moteur.ma/fr/voiture/achat-voiture...\n",
              "27    https://www.moteur.ma/fr/voiture/achat-voiture...\n",
              "28    https://www.moteur.ma/fr/voiture/achat-voiture...\n",
              "29    https://www.moteur.ma/fr/voiture/achat-voiture...\n",
              "30    https://www.moteur.ma/fr/voiture/achat-voiture...\n",
              "31    https://www.moteur.ma/fr/voiture/achat-voiture...\n",
              "32    https://www.moteur.ma/fr/voiture/achat-voiture...\n",
              "33    https://www.moteur.ma/fr/voiture/achat-voiture...\n",
              "34    https://www.moteur.ma/fr/voiture/achat-voiture...\n",
              "35    https://www.moteur.ma/fr/voiture/achat-voiture...\n",
              "36    https://www.moteur.ma/fr/voiture/achat-voiture...\n",
              "37    https://www.moteur.ma/fr/voiture/achat-voiture...\n",
              "38    https://www.moteur.ma/fr/voiture/achat-voiture...\n",
              "39    https://www.moteur.ma/fr/voiture/achat-voiture...\n",
              "40    https://www.moteur.ma/fr/voiture/achat-voiture...\n",
              "41    https://www.moteur.ma/fr/voiture/achat-voiture...\n",
              "42    https://www.moteur.ma/fr/voiture/achat-voiture...\n",
              "43    https://www.moteur.ma/fr/voiture/achat-voiture...\n",
              "44    https://www.moteur.ma/fr/voiture/achat-voiture...\n",
              "45    https://www.moteur.ma/fr/voiture/achat-voiture...\n",
              "46    https://www.moteur.ma/fr/voiture/achat-voiture...\n",
              "47    https://www.moteur.ma/fr/voiture/achat-voiture...\n",
              "48    https://www.moteur.ma/fr/voiture/achat-voiture...\n",
              "49    https://www.moteur.ma/fr/voiture/achat-voiture...\n",
              "50    https://www.moteur.ma/fr/voiture/achat-voiture...\n",
              "51    https://www.moteur.ma/fr/voiture/achat-voiture...\n",
              "52    https://www.moteur.ma/fr/voiture/achat-voiture...\n",
              "53    https://www.moteur.ma/fr/voiture/achat-voiture...\n",
              "54    https://www.moteur.ma/fr/voiture/achat-voiture...\n",
              "55    https://www.moteur.ma/fr/voiture/achat-voiture...\n",
              "56    https://www.moteur.ma/fr/voiture/achat-voiture...\n",
              "57    https://www.moteur.ma/fr/voiture/achat-voiture...\n",
              "58    https://www.moteur.ma/fr/voiture/achat-voiture...\n",
              "59    https://www.moteur.ma/fr/voiture/achat-voiture...\n",
              "Name: lien, dtype: object"
            ]
          },
          "metadata": {},
          "execution_count": 83
        }
      ]
    },
    {
      "cell_type": "code",
      "source": [],
      "metadata": {
        "id": "wpQKW04Sl7cd"
      },
      "execution_count": null,
      "outputs": []
    }
  ]
}