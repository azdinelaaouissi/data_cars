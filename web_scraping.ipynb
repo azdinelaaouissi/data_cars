{
  "nbformat": 4,
  "nbformat_minor": 0,
  "metadata": {
    "colab": {
      "provenance": [],
      "authorship_tag": "ABX9TyPkn2VLJtTBHR4YqLmlURgn",
      "include_colab_link": true
    },
    "kernelspec": {
      "name": "python3",
      "display_name": "Python 3"
    },
    "language_info": {
      "name": "python"
    }
  },
  "cells": [
    {
      "cell_type": "markdown",
      "metadata": {
        "id": "view-in-github",
        "colab_type": "text"
      },
      "source": [
        "<a href=\"https://colab.research.google.com/github/azdinelaaouissi/data_cars/blob/main/web_scraping.ipynb\" target=\"_parent\"><img src=\"https://colab.research.google.com/assets/colab-badge.svg\" alt=\"Open In Colab\"/></a>"
      ]
    },
    {
      "cell_type": "code",
      "source": [
        "import requests\n",
        "from bs4 import BeautifulSoup\n",
        "import csv\n",
        "import  pandas  as  pd"
      ],
      "metadata": {
        "id": "0-7BjDFT8BKV"
      },
      "execution_count": 66,
      "outputs": []
    },
    {
      "cell_type": "markdown",
      "source": [
        "# data  for  https://www.moteur.ma/fr/voiture/"
      ],
      "metadata": {
        "id": "cEeYXAGnyzq7"
      }
    },
    {
      "cell_type": "code",
      "source": [
        "for  i in  range(0,11):\n",
        "  url=\"https://www.moteur.ma/fr/voiture/achat-voiture-occasion/\"+str(i*30)\n",
        "  print(url)"
      ],
      "metadata": {
        "id": "q2ztirkd0vm2",
        "colab": {
          "base_uri": "https://localhost:8080/"
        },
        "outputId": "9887d87a-f995-4273-acb1-2a44ece3c4ac"
      },
      "execution_count": 73,
      "outputs": [
        {
          "output_type": "stream",
          "name": "stdout",
          "text": [
            "https://www.moteur.ma/fr/voiture/achat-voiture-occasion/0\n",
            "https://www.moteur.ma/fr/voiture/achat-voiture-occasion/30\n",
            "https://www.moteur.ma/fr/voiture/achat-voiture-occasion/60\n",
            "https://www.moteur.ma/fr/voiture/achat-voiture-occasion/90\n",
            "https://www.moteur.ma/fr/voiture/achat-voiture-occasion/120\n",
            "https://www.moteur.ma/fr/voiture/achat-voiture-occasion/150\n",
            "https://www.moteur.ma/fr/voiture/achat-voiture-occasion/180\n",
            "https://www.moteur.ma/fr/voiture/achat-voiture-occasion/210\n",
            "https://www.moteur.ma/fr/voiture/achat-voiture-occasion/240\n",
            "https://www.moteur.ma/fr/voiture/achat-voiture-occasion/270\n",
            "https://www.moteur.ma/fr/voiture/achat-voiture-occasion/300\n"
          ]
        }
      ]
    },
    {
      "cell_type": "code",
      "source": [
        "data=[]\n",
        "for  i in  range(0,11):\n",
        "\n",
        "  url=\"https://www.moteur.ma/fr/voiture/achat-voiture-occasion/\"+str(i*30)\n",
        "  response=requests.get(url)\n",
        "  response.encoding=\"utf-8\"\n",
        "  if response.status_code==200:\n",
        "    html=response.text\n",
        "    soup=BeautifulSoup(html,\"html.parser\")\n",
        "    annonces=soup.findAll(\"div\",class_=\"content-inner\")\n",
        "\n",
        "\n",
        "    for  annonce in  annonces:\n",
        "        marque=annonce.find(\"a\",class_=\"slide\").text.strip()\n",
        "        prix=annonce.find(\"div\",class_=\"PriceListing\").text.strip()\n",
        "        other=annonce.find(\"div\", class_=\"meta\").find(\"ul\").findAll(\"li\")\n",
        "        if  prix==\"Appeler pour le prix\" or other[0].text.strip()==\"Se faire rappeler\":\n",
        "          prix=None\n",
        "          other=annonce.findAll(\"div\", class_=\"meta\")[1].find(\"ul\").findAll(\"li\")\n",
        "        if len(other) ==5:\n",
        "          other.pop(0)\n",
        "        modele=other[0].text.strip()\n",
        "        ville=other[1].text.strip()\n",
        "        carburant=other[2].text.strip()\n",
        "        data.append({\"marque\":marque,\"modele\":modele,\"ville\":ville,\"carburant\":carburant,\"prix\":prix})\n",
        "        #print(f\"======{marque}=======\")\n",
        "    #print(data[0][\"marque\"])\n",
        "\n",
        "  else:\n",
        "    print(f\"error:{response.status_code}\")\n",
        "df=pd.DataFrame(data)\n",
        "print(df)\n",
        "df.to_csv('annonces.csv', index=False)"
      ],
      "metadata": {
        "colab": {
          "base_uri": "https://localhost:8080/"
        },
        "id": "vglgnpg7ATGI",
        "outputId": "06cabf92-33d1-417f-97f6-041b07941f6d"
      },
      "execution_count": 79,
      "outputs": [
        {
          "output_type": "stream",
          "name": "stdout",
          "text": [
            "                                                marque modele       ville  \\\n",
            "0    FORD  Focus 5p\\t\\t\\t\\t\\t\\t\\t\\r\\n\\t\\t\\t\\t\\t\\t\\t...   2013         Fes   \n",
            "1    VOLKSWAGEN  Passat\\t\\t\\t\\t\\t\\t\\t\\r\\n\\t\\t\\t\\t\\t...   2004      Agadir   \n",
            "2                                        DACIA  Dokker   2019       Rabat   \n",
            "3                                  ALFA-ROMEO  Stelvio   2019       Rabat   \n",
            "4                                           SEAT  Leon   2016       Rabat   \n",
            "..                                                 ...    ...         ...   \n",
            "325                                   DACIA  Logan mcv   2019  Casablanca   \n",
            "326                              RENAULT  Megane sedan   2023  Casablanca   \n",
            "327                     LAND-ROVER  Range rover evoque   2020  Casablanca   \n",
            "328                                          FIAT  500   2015   Marrakech   \n",
            "329                                      HYUNDAI  H100   2020   Marrakech   \n",
            "\n",
            "    carburant         prix  \n",
            "0      Diesel  119 000 Dhs  \n",
            "1      Diesel   77 000 Dhs  \n",
            "2      Diesel  116 000 Dhs  \n",
            "3      Diesel  259 000 Dhs  \n",
            "4      Diesel  155 000 Dhs  \n",
            "..        ...          ...  \n",
            "325    Diesel   87 000 Dhs  \n",
            "326    Diesel  250 000 Dhs  \n",
            "327    Diesel  352 000 Dhs  \n",
            "328   Essence         None  \n",
            "329    Diesel         None  \n",
            "\n",
            "[330 rows x 5 columns]\n"
          ]
        }
      ]
    },
    {
      "cell_type": "code",
      "source": [
        "df.shape"
      ],
      "metadata": {
        "colab": {
          "base_uri": "https://localhost:8080/"
        },
        "id": "2A8CNF4jxMrU",
        "outputId": "2154b396-1983-457f-e5fe-d6f6041c0c86"
      },
      "execution_count": 80,
      "outputs": [
        {
          "output_type": "execute_result",
          "data": {
            "text/plain": [
              "(330, 5)"
            ]
          },
          "metadata": {},
          "execution_count": 80
        }
      ]
    },
    {
      "cell_type": "code",
      "source": [],
      "metadata": {
        "id": "9AC1LQ6hV5D8"
      },
      "execution_count": null,
      "outputs": []
    }
  ]
}